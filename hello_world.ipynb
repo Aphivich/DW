{
  "nbformat": 4,
  "nbformat_minor": 0,
  "metadata": {
    "colab": {
      "name": "hello_world.ipynb",
      "provenance": [],
      "include_colab_link": true
    },
    "kernelspec": {
      "name": "python3",
      "display_name": "Python 3"
    }
  },
  "cells": [
    {
      "cell_type": "markdown",
      "metadata": {
        "id": "view-in-github",
        "colab_type": "text"
      },
      "source": [
        "<a href=\"https://colab.research.google.com/github/Aphivich/DW/blob/master/hello_world.ipynb\" target=\"_parent\"><img src=\"https://colab.research.google.com/assets/colab-badge.svg\" alt=\"Open In Colab\"/></a>"
      ]
    },
    {
      "cell_type": "code",
      "metadata": {
        "id": "VIJngoDsmHLO",
        "colab_type": "code",
        "colab": {
          "base_uri": "https://localhost:8080/",
          "height": 34
        },
        "outputId": "fbaaa702-aa08-4172-b8fc-46faf6a5b964"
      },
      "source": [
        "print(\"hello world\")"
      ],
      "execution_count": 2,
      "outputs": [
        {
          "output_type": "stream",
          "text": [
            "hello world\n"
          ],
          "name": "stdout"
        }
      ]
    },
    {
      "cell_type": "code",
      "metadata": {
        "id": "fUurSYZdmdGM",
        "colab_type": "code",
        "colab": {}
      },
      "source": [
        ""
      ],
      "execution_count": 0,
      "outputs": []
    },
    {
      "cell_type": "markdown",
      "metadata": {
        "id": "yGFFQqeum9Hu",
        "colab_type": "text"
      },
      "source": [
        "### List"
      ]
    },
    {
      "cell_type": "code",
      "metadata": {
        "id": "_8FZGsRwnNDI",
        "colab_type": "code",
        "colab": {
          "base_uri": "https://localhost:8080/",
          "height": 34
        },
        "outputId": "7a6f76b4-c57c-46f4-d154-bcb807923e1c"
      },
      "source": [
        "mylist = []\n",
        "mylist.append(\"Aphivich\")\n",
        "mylist.append(200)\n",
        "mylist"
      ],
      "execution_count": 5,
      "outputs": [
        {
          "output_type": "execute_result",
          "data": {
            "text/plain": [
              "['Aphivich', 200]"
            ]
          },
          "metadata": {
            "tags": []
          },
          "execution_count": 5
        }
      ]
    },
    {
      "cell_type": "markdown",
      "metadata": {
        "id": "QQhVwho_nYI8",
        "colab_type": "text"
      },
      "source": [
        "How to count data\n"
      ]
    },
    {
      "cell_type": "code",
      "metadata": {
        "id": "SvbGjSvwnaOr",
        "colab_type": "code",
        "colab": {
          "base_uri": "https://localhost:8080/",
          "height": 34
        },
        "outputId": "200aabe6-94d1-4a1b-a33d-8991247fb821"
      },
      "source": [
        "len(mylist)"
      ],
      "execution_count": 6,
      "outputs": [
        {
          "output_type": "execute_result",
          "data": {
            "text/plain": [
              "2"
            ]
          },
          "metadata": {
            "tags": []
          },
          "execution_count": 6
        }
      ]
    },
    {
      "cell_type": "markdown",
      "metadata": {
        "id": "nevMZAUonxhk",
        "colab_type": "text"
      },
      "source": [
        "## If Else PyThon\n"
      ]
    },
    {
      "cell_type": "code",
      "metadata": {
        "id": "P9dm-iDtn7mD",
        "colab_type": "code",
        "colab": {
          "base_uri": "https://localhost:8080/",
          "height": 51
        },
        "outputId": "0f2c0d41-e2c2-4e98-d7b3-369ee4803008"
      },
      "source": [
        "if mylist[1] > 250 :\n",
        "  name = mylist[0]\n",
        "  score = mylist[1]\n",
        "  print(str(name)+\" \"+str(score))\n",
        "else:\n",
        "  print(\"Very Good!!\")\n",
        "  if score == 200 :\n",
        "      print(\"Perfect\")"
      ],
      "execution_count": 25,
      "outputs": [
        {
          "output_type": "stream",
          "text": [
            "Very Good!!\n",
            "Perfect\n"
          ],
          "name": "stdout"
        }
      ]
    },
    {
      "cell_type": "code",
      "metadata": {
        "id": "7crAbJQ_oIgq",
        "colab_type": "code",
        "colab": {
          "base_uri": "https://localhost:8080/",
          "height": 187
        },
        "outputId": "89f25383-a045-4845-95c9-ee4da33dbece"
      },
      "source": [
        "summation = []\n",
        "for i in range(0,10):\n",
        "  summation.append(i)\n",
        "\n",
        "for i in summation: #for-each loop\n",
        "  print(str(i))"
      ],
      "execution_count": 48,
      "outputs": [
        {
          "output_type": "stream",
          "text": [
            "0\n",
            "1\n",
            "2\n",
            "3\n",
            "4\n",
            "5\n",
            "6\n",
            "7\n",
            "8\n",
            "9\n"
          ],
          "name": "stdout"
        }
      ]
    },
    {
      "cell_type": "code",
      "metadata": {
        "id": "MVVVeZoFrCGA",
        "colab_type": "code",
        "colab": {}
      },
      "source": [
        ""
      ],
      "execution_count": 0,
      "outputs": []
    },
    {
      "cell_type": "markdown",
      "metadata": {
        "id": "U2mUuJmlvOUw",
        "colab_type": "text"
      },
      "source": [
        "### NumPy"
      ]
    },
    {
      "cell_type": "code",
      "metadata": {
        "id": "YF1j01cEvTm0",
        "colab_type": "code",
        "colab": {}
      },
      "source": [
        "import numpy as np"
      ],
      "execution_count": 0,
      "outputs": []
    },
    {
      "cell_type": "markdown",
      "metadata": {
        "id": "y_2EBTQxvjr1",
        "colab_type": "text"
      },
      "source": [
        "Create array in numpy"
      ]
    },
    {
      "cell_type": "code",
      "metadata": {
        "id": "vDm_0ZEQvnNk",
        "colab_type": "code",
        "colab": {
          "base_uri": "https://localhost:8080/",
          "height": 34
        },
        "outputId": "3d2e67c7-42f0-422b-84d2-e0812b5f0f50"
      },
      "source": [
        "l = [1, 2, 3, 4, 5]\n",
        "np_array = np.array(l)\n",
        "type(np_array)"
      ],
      "execution_count": 53,
      "outputs": [
        {
          "output_type": "execute_result",
          "data": {
            "text/plain": [
              "numpy.ndarray"
            ]
          },
          "metadata": {
            "tags": []
          },
          "execution_count": 53
        }
      ]
    },
    {
      "cell_type": "markdown",
      "metadata": {
        "id": "gGV2fZZUwVre",
        "colab_type": "text"
      },
      "source": [
        "Create Martix in Array foramt"
      ]
    },
    {
      "cell_type": "code",
      "metadata": {
        "id": "vXmjtDp8wcck",
        "colab_type": "code",
        "colab": {}
      },
      "source": [
        "np_matrix = np.array([[1,2],[3,4],[5,6],[7,8]])"
      ],
      "execution_count": 0,
      "outputs": []
    },
    {
      "cell_type": "code",
      "metadata": {
        "id": "hYWQC7ruwuUt",
        "colab_type": "code",
        "colab": {
          "base_uri": "https://localhost:8080/",
          "height": 85
        },
        "outputId": "efcf44ae-0d53-40f9-bc0e-49a40d9829e2"
      },
      "source": [
        "np_matrix"
      ],
      "execution_count": 58,
      "outputs": [
        {
          "output_type": "execute_result",
          "data": {
            "text/plain": [
              "array([[1, 2],\n",
              "       [3, 4],\n",
              "       [5, 6],\n",
              "       [7, 8]])"
            ]
          },
          "metadata": {
            "tags": []
          },
          "execution_count": 58
        }
      ]
    },
    {
      "cell_type": "code",
      "metadata": {
        "id": "KnDJGIjhwxH9",
        "colab_type": "code",
        "colab": {
          "base_uri": "https://localhost:8080/",
          "height": 34
        },
        "outputId": "d3217b40-9f7d-4be2-ac25-a69dc636dff9"
      },
      "source": [
        "np.size(np_matrix,0)"
      ],
      "execution_count": 59,
      "outputs": [
        {
          "output_type": "execute_result",
          "data": {
            "text/plain": [
              "4"
            ]
          },
          "metadata": {
            "tags": []
          },
          "execution_count": 59
        }
      ]
    },
    {
      "cell_type": "code",
      "metadata": {
        "id": "2E-tZdMyw629",
        "colab_type": "code",
        "colab": {
          "base_uri": "https://localhost:8080/",
          "height": 34
        },
        "outputId": "95b1f115-8aa0-49b1-c6a2-01ee11a73b6a"
      },
      "source": [
        "np.size(np_matrix,1)"
      ],
      "execution_count": 63,
      "outputs": [
        {
          "output_type": "execute_result",
          "data": {
            "text/plain": [
              "2"
            ]
          },
          "metadata": {
            "tags": []
          },
          "execution_count": 63
        }
      ]
    },
    {
      "cell_type": "code",
      "metadata": {
        "id": "8RSgBxVTxFb9",
        "colab_type": "code",
        "colab": {
          "base_uri": "https://localhost:8080/",
          "height": 34
        },
        "outputId": "98d3132f-6f9c-45df-f1a0-e6831193afbf"
      },
      "source": [
        "np_matrix.shape"
      ],
      "execution_count": 64,
      "outputs": [
        {
          "output_type": "execute_result",
          "data": {
            "text/plain": [
              "(4, 2)"
            ]
          },
          "metadata": {
            "tags": []
          },
          "execution_count": 64
        }
      ]
    },
    {
      "cell_type": "code",
      "metadata": {
        "id": "gPwzA9OJxbCN",
        "colab_type": "code",
        "colab": {
          "base_uri": "https://localhost:8080/",
          "height": 34
        },
        "outputId": "57eb39db-7af4-4496-b372-5d8633ee1f3e"
      },
      "source": [
        "np_matrix.ndim"
      ],
      "execution_count": 65,
      "outputs": [
        {
          "output_type": "execute_result",
          "data": {
            "text/plain": [
              "2"
            ]
          },
          "metadata": {
            "tags": []
          },
          "execution_count": 65
        }
      ]
    },
    {
      "cell_type": "code",
      "metadata": {
        "id": "O3MxwzJnxe1F",
        "colab_type": "code",
        "colab": {
          "base_uri": "https://localhost:8080/",
          "height": 34
        },
        "outputId": "f626cf49-fa03-428b-e238-a136a936ac50"
      },
      "source": [
        "np_matrix.size"
      ],
      "execution_count": 66,
      "outputs": [
        {
          "output_type": "execute_result",
          "data": {
            "text/plain": [
              "8"
            ]
          },
          "metadata": {
            "tags": []
          },
          "execution_count": 66
        }
      ]
    },
    {
      "cell_type": "markdown",
      "metadata": {
        "id": "867VngBbxuee",
        "colab_type": "text"
      },
      "source": [
        "Create Matrix with Mix Data Type"
      ]
    },
    {
      "cell_type": "code",
      "metadata": {
        "id": "ipa70Pt0x3yM",
        "colab_type": "code",
        "colab": {}
      },
      "source": [
        "np_mix_matrix = np.array([['one',2],['three',4],['five',6]])"
      ],
      "execution_count": 0,
      "outputs": []
    },
    {
      "cell_type": "code",
      "metadata": {
        "id": "zB0g85TIyJd9",
        "colab_type": "code",
        "colab": {
          "base_uri": "https://localhost:8080/",
          "height": 68
        },
        "outputId": "64ef4cdd-a966-4f2e-f30d-762ad270ba3e"
      },
      "source": [
        "np_mix_matrix"
      ],
      "execution_count": 68,
      "outputs": [
        {
          "output_type": "execute_result",
          "data": {
            "text/plain": [
              "array([['one', '2'],\n",
              "       ['three', '4'],\n",
              "       ['five', '6']], dtype='<U5')"
            ]
          },
          "metadata": {
            "tags": []
          },
          "execution_count": 68
        }
      ]
    },
    {
      "cell_type": "markdown",
      "metadata": {
        "id": "2Pej7hIUyubu",
        "colab_type": "text"
      },
      "source": [
        "Access matrix element"
      ]
    },
    {
      "cell_type": "code",
      "metadata": {
        "id": "BGJBEAqKy2_8",
        "colab_type": "code",
        "colab": {
          "base_uri": "https://localhost:8080/",
          "height": 34
        },
        "outputId": "1c7ebbc1-5b15-4876-899b-2ab8e0818175"
      },
      "source": [
        "np_mix_matrix[0,1]"
      ],
      "execution_count": 69,
      "outputs": [
        {
          "output_type": "execute_result",
          "data": {
            "text/plain": [
              "'2'"
            ]
          },
          "metadata": {
            "tags": []
          },
          "execution_count": 69
        }
      ]
    },
    {
      "cell_type": "markdown",
      "metadata": {
        "id": "eDmYAytgy8al",
        "colab_type": "text"
      },
      "source": [
        "Access all column of matrix\n"
      ]
    },
    {
      "cell_type": "code",
      "metadata": {
        "id": "_X_Z4AhezCbl",
        "colab_type": "code",
        "colab": {
          "base_uri": "https://localhost:8080/",
          "height": 34
        },
        "outputId": "e9bca2b6-c187-48f1-cd7f-1b4cdd0c5457"
      },
      "source": [
        "np_mix_matrix[:,0]"
      ],
      "execution_count": 75,
      "outputs": [
        {
          "output_type": "execute_result",
          "data": {
            "text/plain": [
              "array(['one', 'three', 'five'], dtype='<U5')"
            ]
          },
          "metadata": {
            "tags": []
          },
          "execution_count": 75
        }
      ]
    },
    {
      "cell_type": "code",
      "metadata": {
        "id": "W4tPo0ZzzLK9",
        "colab_type": "code",
        "colab": {
          "base_uri": "https://localhost:8080/",
          "height": 34
        },
        "outputId": "7d85eb11-ed0f-434a-e5fb-cb8d05c05b50"
      },
      "source": [
        "np_mix_matrix[:,1]"
      ],
      "execution_count": 88,
      "outputs": [
        {
          "output_type": "execute_result",
          "data": {
            "text/plain": [
              "array(['2', '4', '6'], dtype='<U5')"
            ]
          },
          "metadata": {
            "tags": []
          },
          "execution_count": 88
        }
      ]
    },
    {
      "cell_type": "markdown",
      "metadata": {
        "id": "cONRNZkpzeiv",
        "colab_type": "text"
      },
      "source": [
        "Access all row of matrix"
      ]
    },
    {
      "cell_type": "code",
      "metadata": {
        "id": "m0rdiKl6zf8V",
        "colab_type": "code",
        "colab": {
          "base_uri": "https://localhost:8080/",
          "height": 34
        },
        "outputId": "9729465c-f6a6-4369-8ab4-53589fb35793"
      },
      "source": [
        "np_mix_matrix[0]"
      ],
      "execution_count": 86,
      "outputs": [
        {
          "output_type": "execute_result",
          "data": {
            "text/plain": [
              "array(['one', '2'], dtype='<U5')"
            ]
          },
          "metadata": {
            "tags": []
          },
          "execution_count": 86
        }
      ]
    },
    {
      "cell_type": "markdown",
      "metadata": {
        "id": "5jvnpKgV0aZw",
        "colab_type": "text"
      },
      "source": [
        "Access element from row 0 to row 1"
      ]
    },
    {
      "cell_type": "code",
      "metadata": {
        "id": "buJtA4Ey0kZS",
        "colab_type": "code",
        "colab": {
          "base_uri": "https://localhost:8080/",
          "height": 51
        },
        "outputId": "f8bc5d79-f113-4459-a3a6-4dbfb9f097c9"
      },
      "source": [
        "np_mix_matrix[0:2]"
      ],
      "execution_count": 92,
      "outputs": [
        {
          "output_type": "execute_result",
          "data": {
            "text/plain": [
              "array([['one', '2'],\n",
              "       ['three', '4']], dtype='<U5')"
            ]
          },
          "metadata": {
            "tags": []
          },
          "execution_count": 92
        }
      ]
    },
    {
      "cell_type": "markdown",
      "metadata": {
        "id": "OMYCGRoD0ybw",
        "colab_type": "text"
      },
      "source": [
        "Type casting ndarraay object"
      ]
    },
    {
      "cell_type": "code",
      "metadata": {
        "id": "6jdN3Yg005El",
        "colab_type": "code",
        "colab": {
          "base_uri": "https://localhost:8080/",
          "height": 34
        },
        "outputId": "10db2b19-358c-4d7a-cfb4-113058a507f5"
      },
      "source": [
        "np.array(np_mix_matrix[:,1], dtype = int)"
      ],
      "execution_count": 93,
      "outputs": [
        {
          "output_type": "execute_result",
          "data": {
            "text/plain": [
              "array([2, 4, 6])"
            ]
          },
          "metadata": {
            "tags": []
          },
          "execution_count": 93
        }
      ]
    },
    {
      "cell_type": "markdown",
      "metadata": {
        "id": "b6UQal4M1OLG",
        "colab_type": "text"
      },
      "source": [
        "matrix of zeros"
      ]
    },
    {
      "cell_type": "code",
      "metadata": {
        "id": "wT2LfCDb1Df9",
        "colab_type": "code",
        "colab": {
          "base_uri": "https://localhost:8080/",
          "height": 51
        },
        "outputId": "d9fabb25-e935-4561-837d-127eb4dc24a6"
      },
      "source": [
        "np.zeros([2,3])"
      ],
      "execution_count": 94,
      "outputs": [
        {
          "output_type": "execute_result",
          "data": {
            "text/plain": [
              "array([[0., 0., 0.],\n",
              "       [0., 0., 0.]])"
            ]
          },
          "metadata": {
            "tags": []
          },
          "execution_count": 94
        }
      ]
    },
    {
      "cell_type": "markdown",
      "metadata": {
        "id": "-kz2eJ1E1RC3",
        "colab_type": "text"
      },
      "source": [
        "matrix of one"
      ]
    },
    {
      "cell_type": "code",
      "metadata": {
        "id": "zeqRfuqK1Lel",
        "colab_type": "code",
        "colab": {
          "base_uri": "https://localhost:8080/",
          "height": 102
        },
        "outputId": "8c8527d4-7965-4de8-a379-9c1cb5f56bdd"
      },
      "source": [
        "np.ones([5,5])"
      ],
      "execution_count": 95,
      "outputs": [
        {
          "output_type": "execute_result",
          "data": {
            "text/plain": [
              "array([[1., 1., 1., 1., 1.],\n",
              "       [1., 1., 1., 1., 1.],\n",
              "       [1., 1., 1., 1., 1.],\n",
              "       [1., 1., 1., 1., 1.],\n",
              "       [1., 1., 1., 1., 1.]])"
            ]
          },
          "metadata": {
            "tags": []
          },
          "execution_count": 95
        }
      ]
    },
    {
      "cell_type": "markdown",
      "metadata": {
        "id": "uSO9B-I_1Y_n",
        "colab_type": "text"
      },
      "source": [
        "Eye matrix"
      ]
    },
    {
      "cell_type": "code",
      "metadata": {
        "id": "1bDUDqqi1bCO",
        "colab_type": "code",
        "colab": {
          "base_uri": "https://localhost:8080/",
          "height": 102
        },
        "outputId": "87695d11-ac54-4bb1-c29a-565fd68fd4fa"
      },
      "source": [
        "np.eye(5)"
      ],
      "execution_count": 102,
      "outputs": [
        {
          "output_type": "execute_result",
          "data": {
            "text/plain": [
              "array([[1., 0., 0., 0., 0.],\n",
              "       [0., 1., 0., 0., 0.],\n",
              "       [0., 0., 1., 0., 0.],\n",
              "       [0., 0., 0., 1., 0.],\n",
              "       [0., 0., 0., 0., 1.]])"
            ]
          },
          "metadata": {
            "tags": []
          },
          "execution_count": 102
        }
      ]
    },
    {
      "cell_type": "markdown",
      "metadata": {
        "id": "37Vdrdn01mXv",
        "colab_type": "text"
      },
      "source": [
        "Empty matrix"
      ]
    },
    {
      "cell_type": "code",
      "metadata": {
        "id": "JaXVjMPj1n31",
        "colab_type": "code",
        "colab": {
          "base_uri": "https://localhost:8080/",
          "height": 102
        },
        "outputId": "e4b574c9-026f-4fb5-89ac-c8180dfdf2c7"
      },
      "source": [
        "np.empty([5,5])"
      ],
      "execution_count": 101,
      "outputs": [
        {
          "output_type": "execute_result",
          "data": {
            "text/plain": [
              "array([[1., 0., 0., 0., 0.],\n",
              "       [0., 1., 0., 0., 0.],\n",
              "       [0., 0., 1., 0., 0.],\n",
              "       [0., 0., 0., 1., 0.],\n",
              "       [0., 0., 0., 0., 1.]])"
            ]
          },
          "metadata": {
            "tags": []
          },
          "execution_count": 101
        }
      ]
    },
    {
      "cell_type": "markdown",
      "metadata": {
        "id": "3o8Muhzc1_dI",
        "colab_type": "text"
      },
      "source": [
        "random matrix size"
      ]
    },
    {
      "cell_type": "code",
      "metadata": {
        "id": "OHDPyNrJ1rxV",
        "colab_type": "code",
        "colab": {
          "base_uri": "https://localhost:8080/",
          "height": 102
        },
        "outputId": "bc3ed6ed-d405-4dd1-f540-28a65e16f59a"
      },
      "source": [
        "np.random.rand(5,5)"
      ],
      "execution_count": 104,
      "outputs": [
        {
          "output_type": "execute_result",
          "data": {
            "text/plain": [
              "array([[0.94768882, 0.24878683, 0.60362998, 0.88904052, 0.71547425],\n",
              "       [0.13071151, 0.68623149, 0.03870524, 0.88420615, 0.55207465],\n",
              "       [0.4570859 , 0.0835639 , 0.90049968, 0.56689879, 0.13796385],\n",
              "       [0.20815793, 0.51714104, 0.32037929, 0.5050443 , 0.28495313],\n",
              "       [0.09936068, 0.49554909, 0.44417926, 0.20223399, 0.01725094]])"
            ]
          },
          "metadata": {
            "tags": []
          },
          "execution_count": 104
        }
      ]
    },
    {
      "cell_type": "markdown",
      "metadata": {
        "id": "lgL_nv8d2NSg",
        "colab_type": "text"
      },
      "source": [
        "random size = 3,3 having value between 0 to 4"
      ]
    },
    {
      "cell_type": "code",
      "metadata": {
        "id": "rVXkGlJe1-T2",
        "colab_type": "code",
        "colab": {
          "base_uri": "https://localhost:8080/",
          "height": 68
        },
        "outputId": "5f3f19af-6490-4bbb-9ddc-5218a60db5ca"
      },
      "source": [
        "np.random.randint(5,size = (3,3))"
      ],
      "execution_count": 105,
      "outputs": [
        {
          "output_type": "execute_result",
          "data": {
            "text/plain": [
              "array([[4, 3, 3],\n",
              "       [4, 3, 4],\n",
              "       [2, 4, 4]])"
            ]
          },
          "metadata": {
            "tags": []
          },
          "execution_count": 105
        }
      ]
    },
    {
      "cell_type": "markdown",
      "metadata": {
        "id": "MjgJ5nes2u2u",
        "colab_type": "text"
      },
      "source": [
        "Ex1"
      ]
    },
    {
      "cell_type": "code",
      "metadata": {
        "id": "AtXQfpDW2MSe",
        "colab_type": "code",
        "colab": {
          "base_uri": "https://localhost:8080/",
          "height": 187
        },
        "outputId": "aa0bc1c3-9174-4dc5-901a-3025201e4a72"
      },
      "source": [
        "np.random.rand(10,5)"
      ],
      "execution_count": 119,
      "outputs": [
        {
          "output_type": "execute_result",
          "data": {
            "text/plain": [
              "array([[0.20117528, 0.62271298, 0.04468919, 0.28317467, 0.8192463 ],\n",
              "       [0.44923455, 0.79624487, 0.20179808, 0.46045004, 0.23074645],\n",
              "       [0.76558697, 0.26111628, 0.48446001, 0.14981585, 0.68645086],\n",
              "       [0.63415126, 0.18742686, 0.28022091, 0.49351451, 0.61653518],\n",
              "       [0.77876777, 0.3172737 , 0.82047095, 0.08799999, 0.4757783 ],\n",
              "       [0.3630636 , 0.97214802, 0.6324926 , 0.29478193, 0.51576748],\n",
              "       [0.75102167, 0.13762404, 0.00184557, 0.16249795, 0.12971033],\n",
              "       [0.84491345, 0.98756904, 0.03289683, 0.61211701, 0.71294888],\n",
              "       [0.55551565, 0.79534863, 0.46310796, 0.08893319, 0.7611082 ],\n",
              "       [0.79800936, 0.8323361 , 0.73425805, 0.9186746 , 0.94568581]])"
            ]
          },
          "metadata": {
            "tags": []
          },
          "execution_count": 119
        }
      ]
    },
    {
      "cell_type": "code",
      "metadata": {
        "id": "BgUaNw9J282e",
        "colab_type": "code",
        "colab": {
          "base_uri": "https://localhost:8080/",
          "height": 187
        },
        "outputId": "ca2f84ee-d8c5-49b6-ad09-b80e5e0c900c"
      },
      "source": [
        "a = np.zeros([10,5])\n",
        "a"
      ],
      "execution_count": 112,
      "outputs": [
        {
          "output_type": "execute_result",
          "data": {
            "text/plain": [
              "array([[0., 0., 0., 0., 0.],\n",
              "       [0., 0., 0., 0., 0.],\n",
              "       [0., 0., 0., 0., 0.],\n",
              "       [0., 0., 0., 0., 0.],\n",
              "       [0., 0., 0., 0., 0.],\n",
              "       [0., 0., 0., 0., 0.],\n",
              "       [0., 0., 0., 0., 0.],\n",
              "       [0., 0., 0., 0., 0.],\n",
              "       [0., 0., 0., 0., 0.],\n",
              "       [0., 0., 0., 0., 0.]])"
            ]
          },
          "metadata": {
            "tags": []
          },
          "execution_count": 112
        }
      ]
    },
    {
      "cell_type": "code",
      "metadata": {
        "id": "RxcrmirR3iSG",
        "colab_type": "code",
        "colab": {
          "base_uri": "https://localhost:8080/",
          "height": 187
        },
        "outputId": "bbfbf1b1-67cf-4f81-c7e5-411b4ece1801"
      },
      "source": [
        "b = np.ones([10,5])\n",
        "b"
      ],
      "execution_count": 114,
      "outputs": [
        {
          "output_type": "execute_result",
          "data": {
            "text/plain": [
              "array([[1., 1., 1., 1., 1.],\n",
              "       [1., 1., 1., 1., 1.],\n",
              "       [1., 1., 1., 1., 1.],\n",
              "       [1., 1., 1., 1., 1.],\n",
              "       [1., 1., 1., 1., 1.],\n",
              "       [1., 1., 1., 1., 1.],\n",
              "       [1., 1., 1., 1., 1.],\n",
              "       [1., 1., 1., 1., 1.],\n",
              "       [1., 1., 1., 1., 1.],\n",
              "       [1., 1., 1., 1., 1.]])"
            ]
          },
          "metadata": {
            "tags": []
          },
          "execution_count": 114
        }
      ]
    },
    {
      "cell_type": "code",
      "metadata": {
        "id": "kNp-ONXA4DK-",
        "colab_type": "code",
        "colab": {
          "base_uri": "https://localhost:8080/",
          "height": 187
        },
        "outputId": "149b3ee4-f85e-4b2f-bf24-3b8c68d5e4f1"
      },
      "source": [
        "a[0,:] = b[0]\n",
        "a"
      ],
      "execution_count": 120,
      "outputs": [
        {
          "output_type": "execute_result",
          "data": {
            "text/plain": [
              "array([[1., 1., 1., 1., 1.],\n",
              "       [0., 0., 0., 0., 0.],\n",
              "       [0., 0., 0., 0., 0.],\n",
              "       [0., 0., 0., 0., 0.],\n",
              "       [0., 0., 0., 0., 0.],\n",
              "       [0., 0., 0., 0., 0.],\n",
              "       [0., 0., 0., 0., 0.],\n",
              "       [0., 0., 0., 0., 0.],\n",
              "       [0., 0., 0., 0., 0.],\n",
              "       [0., 0., 0., 0., 0.]])"
            ]
          },
          "metadata": {
            "tags": []
          },
          "execution_count": 120
        }
      ]
    },
    {
      "cell_type": "code",
      "metadata": {
        "id": "QjHBZrVi4Hzu",
        "colab_type": "code",
        "colab": {
          "base_uri": "https://localhost:8080/",
          "height": 187
        },
        "outputId": "1db6b228-8009-4436-c574-edd1e14f28e0"
      },
      "source": [
        "r = np.random.rand(10,5)\n",
        "r"
      ],
      "execution_count": 124,
      "outputs": [
        {
          "output_type": "execute_result",
          "data": {
            "text/plain": [
              "array([[0.69232782, 0.09625334, 0.62386258, 0.88821216, 0.18702414],\n",
              "       [0.50710063, 0.46092749, 0.2556019 , 0.85953646, 0.81331178],\n",
              "       [0.69460825, 0.14075815, 0.06905182, 0.51134743, 0.40428822],\n",
              "       [0.48424476, 0.13808233, 0.13741659, 0.18776593, 0.417113  ],\n",
              "       [0.40256614, 0.0905077 , 0.57085827, 0.43655387, 0.90009923],\n",
              "       [0.1684119 , 0.70341535, 0.90850404, 0.9734023 , 0.61011681],\n",
              "       [0.42016735, 0.27503436, 0.38538696, 0.80874958, 0.21426781],\n",
              "       [0.38839963, 0.54063565, 0.88368773, 0.8436292 , 0.36364914],\n",
              "       [0.26620846, 0.74856917, 0.649377  , 0.86080231, 0.47711098],\n",
              "       [0.66892252, 0.2309707 , 0.9688926 , 0.77967691, 0.24134615]])"
            ]
          },
          "metadata": {
            "tags": []
          },
          "execution_count": 124
        }
      ]
    },
    {
      "cell_type": "code",
      "metadata": {
        "id": "jSAsTdvK4hfW",
        "colab_type": "code",
        "colab": {
          "base_uri": "https://localhost:8080/",
          "height": 187
        },
        "outputId": "bb66632f-28cd-4a76-e7a5-f141f0b583dd"
      },
      "source": [
        "r[:,4] = a[:,4]\n",
        "r[:,4] = b[:,4]\n",
        "r"
      ],
      "execution_count": 135,
      "outputs": [
        {
          "output_type": "execute_result",
          "data": {
            "text/plain": [
              "array([[0.69232782, 0.09625334, 0.62386258, 0.88821216, 1.        ],\n",
              "       [0.50710063, 0.46092749, 0.2556019 , 0.85953646, 1.        ],\n",
              "       [0.69460825, 0.14075815, 0.06905182, 0.51134743, 1.        ],\n",
              "       [0.48424476, 0.13808233, 0.13741659, 0.18776593, 1.        ],\n",
              "       [0.40256614, 0.0905077 , 0.57085827, 0.43655387, 1.        ],\n",
              "       [0.1684119 , 0.70341535, 0.90850404, 0.9734023 , 1.        ],\n",
              "       [0.42016735, 0.27503436, 0.38538696, 0.80874958, 1.        ],\n",
              "       [0.38839963, 0.54063565, 0.88368773, 0.8436292 , 1.        ],\n",
              "       [0.26620846, 0.74856917, 0.649377  , 0.86080231, 1.        ],\n",
              "       [0.66892252, 0.2309707 , 0.9688926 , 0.77967691, 1.        ]])"
            ]
          },
          "metadata": {
            "tags": []
          },
          "execution_count": 135
        }
      ]
    },
    {
      "cell_type": "code",
      "metadata": {
        "id": "WDipTxkf48QW",
        "colab_type": "code",
        "colab": {}
      },
      "source": [
        "c = np.random.choice(2,10)"
      ],
      "execution_count": 0,
      "outputs": []
    },
    {
      "cell_type": "markdown",
      "metadata": {
        "id": "_OuU5qe-C5pj",
        "colab_type": "text"
      },
      "source": [
        "# Ex1"
      ]
    },
    {
      "cell_type": "code",
      "metadata": {
        "id": "4RF_lla46KTU",
        "colab_type": "code",
        "colab": {
          "base_uri": "https://localhost:8080/",
          "height": 187
        },
        "outputId": "5ebac867-301d-4dca-bad7-eec87ffa37ca"
      },
      "source": [
        "r = np.random.rand(10,5)\n",
        "c = np.random.choice(2,10)\n",
        "r[:,4] = c\n",
        "r"
      ],
      "execution_count": 143,
      "outputs": [
        {
          "output_type": "execute_result",
          "data": {
            "text/plain": [
              "array([[0.0075366 , 0.12774903, 0.0370772 , 0.48085192, 0.        ],\n",
              "       [0.39871644, 0.82809344, 0.24733118, 0.98305727, 0.        ],\n",
              "       [0.8068671 , 0.17299953, 0.4464488 , 0.62508921, 1.        ],\n",
              "       [0.45705111, 0.62820302, 0.23252191, 0.37035589, 1.        ],\n",
              "       [0.97932138, 0.74146632, 0.28327692, 0.4409939 , 1.        ],\n",
              "       [0.18695905, 0.4755083 , 0.45737367, 0.34346138, 0.        ],\n",
              "       [0.02263497, 0.85905   , 0.19339202, 0.6250363 , 1.        ],\n",
              "       [0.25449301, 0.28906759, 0.85076142, 0.55724362, 0.        ],\n",
              "       [0.41432913, 0.68849236, 0.78013729, 0.06433449, 1.        ],\n",
              "       [0.5232542 , 0.71627582, 0.05037011, 0.86853686, 0.        ]])"
            ]
          },
          "metadata": {
            "tags": []
          },
          "execution_count": 143
        }
      ]
    },
    {
      "cell_type": "markdown",
      "metadata": {
        "id": "bJQ30L9T6yVL",
        "colab_type": "text"
      },
      "source": [
        "### Delete row"
      ]
    },
    {
      "cell_type": "markdown",
      "metadata": {
        "id": "jR66VVwy7Jmy",
        "colab_type": "text"
      },
      "source": [
        "random (5,5) value 0 - 10\n"
      ]
    },
    {
      "cell_type": "code",
      "metadata": {
        "id": "PJaXMOGR6TAn",
        "colab_type": "code",
        "colab": {}
      },
      "source": [
        ""
      ],
      "execution_count": 0,
      "outputs": []
    },
    {
      "cell_type": "markdown",
      "metadata": {
        "id": "a2OE1eBF7Z1a",
        "colab_type": "text"
      },
      "source": [
        "# Ex2"
      ]
    },
    {
      "cell_type": "code",
      "metadata": {
        "id": "QVSK1YXa89kT",
        "colab_type": "code",
        "colab": {
          "base_uri": "https://localhost:8080/",
          "height": 187
        },
        "outputId": "820b3d3c-eee4-491d-acfe-f7aacd5c4671"
      },
      "source": [
        "r = np.random.rand(10,5)\n",
        "r"
      ],
      "execution_count": 158,
      "outputs": [
        {
          "output_type": "execute_result",
          "data": {
            "text/plain": [
              "array([[0.59480488, 0.90497862, 0.76350253, 0.4237344 , 0.08724598],\n",
              "       [0.54214373, 0.31522029, 0.551626  , 0.59843459, 0.20526664],\n",
              "       [0.72755887, 0.6020519 , 0.95336412, 0.73577603, 0.99937315],\n",
              "       [0.36964191, 0.40665343, 0.40158473, 0.11944838, 0.54828797],\n",
              "       [0.47934651, 0.87952093, 0.59360516, 0.00695267, 0.67761933],\n",
              "       [0.36470043, 0.67983229, 0.85942533, 0.21061462, 0.4314338 ],\n",
              "       [0.67844943, 0.31966812, 0.17399061, 0.30735841, 0.92288789],\n",
              "       [0.77591029, 0.40739716, 0.49003497, 0.43200187, 0.3318406 ],\n",
              "       [0.65242159, 0.04423253, 0.05254993, 0.51260172, 0.56763415],\n",
              "       [0.29240845, 0.01287134, 0.35925698, 0.91594215, 0.82436545]])"
            ]
          },
          "metadata": {
            "tags": []
          },
          "execution_count": 158
        }
      ]
    },
    {
      "cell_type": "code",
      "metadata": {
        "id": "6pupOyr37btr",
        "colab_type": "code",
        "colab": {
          "base_uri": "https://localhost:8080/",
          "height": 34
        },
        "outputId": "35cdc807-2643-409b-a0bb-1ded2c5b95c0"
      },
      "source": [
        "c = np.random.choice(3,10)\n",
        "c"
      ],
      "execution_count": 145,
      "outputs": [
        {
          "output_type": "execute_result",
          "data": {
            "text/plain": [
              "array([0, 1, 2, 2, 1, 1, 2, 1, 2, 1])"
            ]
          },
          "metadata": {
            "tags": []
          },
          "execution_count": 145
        }
      ]
    },
    {
      "cell_type": "code",
      "metadata": {
        "id": "joH3w-dY7nFU",
        "colab_type": "code",
        "colab": {
          "base_uri": "https://localhost:8080/",
          "height": 34
        },
        "outputId": "16d64e8d-2541-46f2-fb10-5bd916fe9c5d"
      },
      "source": [
        "result = np.where(c == 2)\n",
        "result"
      ],
      "execution_count": 150,
      "outputs": [
        {
          "output_type": "execute_result",
          "data": {
            "text/plain": [
              "(array([2, 3, 6, 8]),)"
            ]
          },
          "metadata": {
            "tags": []
          },
          "execution_count": 150
        }
      ]
    },
    {
      "cell_type": "code",
      "metadata": {
        "id": "IvGVcKf_8D4f",
        "colab_type": "code",
        "colab": {
          "base_uri": "https://localhost:8080/",
          "height": 85
        },
        "outputId": "5c9508fa-e2bd-4d68-d8a8-b1756f480139"
      },
      "source": [
        "r[2],r[3],r[6],r[8]"
      ],
      "execution_count": 161,
      "outputs": [
        {
          "output_type": "execute_result",
          "data": {
            "text/plain": [
              "(array([0.72755887, 0.6020519 , 0.95336412, 0.73577603, 0.99937315]),\n",
              " array([0.36964191, 0.40665343, 0.40158473, 0.11944838, 0.54828797]),\n",
              " array([0.67844943, 0.31966812, 0.17399061, 0.30735841, 0.92288789]),\n",
              " array([0.65242159, 0.04423253, 0.05254993, 0.51260172, 0.56763415]))"
            ]
          },
          "metadata": {
            "tags": []
          },
          "execution_count": 161
        }
      ]
    },
    {
      "cell_type": "code",
      "metadata": {
        "id": "k2z4s4q18ZDn",
        "colab_type": "code",
        "colab": {
          "base_uri": "https://localhost:8080/",
          "height": 68
        },
        "outputId": "6e209fc7-fdee-402b-9c44-15f2802d0634"
      },
      "source": [
        "r = np.random.rand(10,5)\n",
        "c = np.random.choice(3,10)\n",
        "q = np.where(c == 2)\n",
        "r[q]"
      ],
      "execution_count": 194,
      "outputs": [
        {
          "output_type": "execute_result",
          "data": {
            "text/plain": [
              "array([[0.60185801, 0.40387877, 0.12750881, 0.60588516, 0.37860377],\n",
              "       [0.70441099, 0.18002445, 0.70960099, 0.80964742, 0.99965571],\n",
              "       [0.92080861, 0.9877427 , 0.17738261, 0.27598383, 0.93685973]])"
            ]
          },
          "metadata": {
            "tags": []
          },
          "execution_count": 194
        }
      ]
    },
    {
      "cell_type": "markdown",
      "metadata": {
        "id": "1JaRzgSGCL8X",
        "colab_type": "text"
      },
      "source": [
        "# Ex.2"
      ]
    },
    {
      "cell_type": "code",
      "metadata": {
        "id": "3Kwaoll7B1Ei",
        "colab_type": "code",
        "colab": {
          "base_uri": "https://localhost:8080/",
          "height": 85
        },
        "outputId": "1609c69a-c05f-43df-95dc-e9601586b601"
      },
      "source": [
        "r = np.random.rand(10,5)\n",
        "c = np.random.choice(3,10)\n",
        "q = np.where(c == 2)\n",
        "r[q]"
      ],
      "execution_count": 193,
      "outputs": [
        {
          "output_type": "execute_result",
          "data": {
            "text/plain": [
              "array([[0.55501367, 0.37603972, 0.39312931, 0.98486778, 0.42469752],\n",
              "       [0.07972481, 0.24575266, 0.19887034, 0.87015222, 0.61130882],\n",
              "       [0.37027627, 0.13233592, 0.08449213, 0.88462759, 0.94122185],\n",
              "       [0.09671292, 0.75049054, 0.11254755, 0.58376124, 0.88683576]])"
            ]
          },
          "metadata": {
            "tags": []
          },
          "execution_count": 193
        }
      ]
    },
    {
      "cell_type": "code",
      "metadata": {
        "id": "ZOCYI1VoB1Y4",
        "colab_type": "code",
        "colab": {}
      },
      "source": [
        ""
      ],
      "execution_count": 0,
      "outputs": []
    }
  ]
}